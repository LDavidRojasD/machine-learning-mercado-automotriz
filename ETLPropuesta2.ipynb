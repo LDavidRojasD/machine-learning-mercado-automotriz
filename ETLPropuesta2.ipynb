{
 "cells": [
  {
   "cell_type": "code",
   "execution_count": null,
   "metadata": {},
   "outputs": [],
   "source": [
    "#Comenzamos importando nuestras librerias con las que vamos a trabajar\n",
    "import pandas as pd\n",
    "import numpy as np\n",
    "import seaborn as sns\n",
    "import matplotlib.pyplot as plt\n",
    "import warnings\n",
    "warnings.filterwarnings('ignore')"
   ]
  },
  {
   "cell_type": "code",
   "execution_count": null,
   "metadata": {},
   "outputs": [],
   "source": [
    "#Creamos nuestro Dataframe cargando nuestro CSV\n",
    "df = pd.read_csv('./datasource/ML_cars.csv')"
   ]
  },
  {
   "cell_type": "code",
   "execution_count": null,
   "metadata": {},
   "outputs": [],
   "source": [
    "#Visualizamos información de nuestro dataframe previo a su limpieza\n",
    "df.info()\n",
    "\n",
    "#De lo cual podemos obtener que contamos con 26 columnas (0 a 25) y con 205 filas ( 0 a 204) por lo tanto contamos con 5330 datos"
   ]
  },
  {
   "cell_type": "code",
   "execution_count": null,
   "metadata": {},
   "outputs": [],
   "source": [
    "#Visualizamos más información de nuestro dataset\n",
    "df.head()"
   ]
  },
  {
   "cell_type": "code",
   "execution_count": null,
   "metadata": {},
   "outputs": [],
   "source": [
    "#Solo por estetica transformamos las columnas que contengan texto a todo en mayusculas\n",
    "df = df.applymap(lambda x: x.upper() if isinstance(x, str) else x)"
   ]
  },
  {
   "cell_type": "code",
   "execution_count": null,
   "metadata": {},
   "outputs": [],
   "source": [
    "#Nuevamente visualizamos nuestro DF ya con todos los textos en mayúsculas\n",
    "df.head()"
   ]
  },
  {
   "cell_type": "code",
   "execution_count": null,
   "metadata": {},
   "outputs": [],
   "source": [
    "sns.pairplot(data= df)"
   ]
  },
  {
   "cell_type": "code",
   "execution_count": null,
   "metadata": {},
   "outputs": [],
   "source": [
    "df.columns"
   ]
  },
  {
   "cell_type": "code",
   "execution_count": null,
   "metadata": {},
   "outputs": [],
   "source": [
    "df['doornumber'].unique()"
   ]
  },
  {
   "cell_type": "code",
   "execution_count": null,
   "metadata": {},
   "outputs": [],
   "source": [
    "df['cylindernumber'].unique()"
   ]
  },
  {
   "cell_type": "code",
   "execution_count": null,
   "metadata": {},
   "outputs": [],
   "source": [
    "# convertimos las columnas doornumber y cylindernumber en numéricas\n",
    "\n",
    "df['doornumber'] = df['doornumber'].apply(lambda x: 2 if x == 'TWO' else 4)\n",
    "\n",
    "num_cilindros = {'FOUR': 4, 'SIX': 6, 'FIVE': 5, 'THREE': 3, 'TWELVE': 12, 'TWO': 2, 'EIGHT': 8}\n",
    "\n",
    "df['cylindernumber'] = df['cylindernumber'].apply(lambda x: num_cilindros[x])\n"
   ]
  },
  {
   "cell_type": "code",
   "execution_count": null,
   "metadata": {},
   "outputs": [],
   "source": [
    "#Para otra visulización en HeatMap obtenemos las columnas númericas para ver como se relacionan las mismas\n",
    "columnas_numericas = ['doornumber', 'cylindernumber', 'symboling','wheelbase','carlength','carwidth','carheight','curbweight','enginesize','boreratio','stroke','compressionratio','horsepower','peakrpm','citympg','highwaympg','price']\n",
    "\n",
    "#Obtenemos el coeficiente de correlación de dichas columnas obteniendo sus valores y su transpuesta\n",
    "corr_coef = np.corrcoef(df[columnas_numericas].values.T)\n",
    "\n",
    "#Finalmente creamos un HeatMap para ver dicha correlación más gráficamente\n",
    "plt.figure(figsize=(20, 10))\n",
    "sns.set(font_scale=1)\n",
    "sns.heatmap(\n",
    "    corr_coef,\n",
    "    annot=True,\n",
    "    yticklabels=columnas_numericas,\n",
    "    xticklabels=columnas_numericas\n",
    ")"
   ]
  },
  {
   "cell_type": "code",
   "execution_count": null,
   "metadata": {},
   "outputs": [],
   "source": [
    "# Obtenemos la marca de la columna 'CarName' y la pegamos en la columna 'brand_name'\n",
    "df['brand_name'] = df['CarName'].str.split().str[0]\n",
    "df['brand_name'].unique()"
   ]
  },
  {
   "cell_type": "code",
   "execution_count": null,
   "metadata": {},
   "outputs": [],
   "source": [
    "# Recorremos toda la columna 'brand_name' para dejar bien escritas las marcas\n",
    "for i in range(len(df)):\n",
    "    brand = df.loc[i, 'brand_name']\n",
    "    if brand == \"MAXDA\": df.loc[i, \"brand_name\"] = \"MAZDA\"\n",
    "    if brand == \"PORCSHE\" or brand == \"PORCSHCE\": df.loc[i, \"brand_name\"] = \"PORSCHE\"\n",
    "    if brand == \"TOYOUTA\": df.loc[i, \"brand_name\"] = \"TOYOTA\"\n",
    "    if brand == \"VOKSWAGEN\" or brand == \"VW\": df.loc[i, \"brand_name\"] = \"VOLKSWAGEN\""
   ]
  },
  {
   "cell_type": "code",
   "execution_count": null,
   "metadata": {},
   "outputs": [],
   "source": [
    "#Antes de preparar nuestro dataset para un modelo de regresión/clasificación exportamos a un CSV nuevo nuestros datos para su analisis en PowerBi\n",
    "df.to_csv('DataTidy.csv')"
   ]
  },
  {
   "cell_type": "code",
   "execution_count": null,
   "metadata": {},
   "outputs": [],
   "source": [
    "df['brand_name'].value_counts()"
   ]
  },
  {
   "cell_type": "code",
   "execution_count": null,
   "metadata": {},
   "outputs": [],
   "source": [
    "# Quitemos columnas que no usaremos como variables independientes para nuestro modelo\n",
    "df.drop(columns= ['car_ID', 'CarName'], inplace=True)"
   ]
  },
  {
   "cell_type": "code",
   "execution_count": null,
   "metadata": {},
   "outputs": [],
   "source": [
    "#A todas las demás variables que no son númericas tenemos que asignarles una variables dummie, por lo tanto...\n",
    "columnas_categoricas = ['brand_name', 'fueltype', 'aspiration', 'carbody', 'drivewheel', 'enginelocation', 'enginetype', 'fuelsystem', ]\n",
    "df = pd.get_dummies(df, columns= columnas_categoricas, drop_first= True, dtype= int)"
   ]
  },
  {
   "cell_type": "code",
   "execution_count": null,
   "metadata": {},
   "outputs": [],
   "source": [
    "# generamos la variable target para la clasificación: 0 = Barato  1 = Caro\n",
    "df['price_category'] = df['price'].apply(lambda x: 1 if x > np.median(df['price']) else 0)"
   ]
  },
  {
   "cell_type": "code",
   "execution_count": null,
   "metadata": {},
   "outputs": [],
   "source": [
    "df['price_category'].value_counts()"
   ]
  },
  {
   "cell_type": "code",
   "execution_count": null,
   "metadata": {},
   "outputs": [],
   "source": [
    "df.info()"
   ]
  },
  {
   "cell_type": "code",
   "execution_count": null,
   "metadata": {},
   "outputs": [],
   "source": [
    "# Visualizamos nuestro dataset completamente modificado\n",
    "df.head()"
   ]
  },
  {
   "cell_type": "code",
   "execution_count": null,
   "metadata": {},
   "outputs": [],
   "source": [
    "#Importamos nuestro Dataset modificado para un modelo de regresion/clasificación \n",
    "df.to_csv('DatasetForML.csv', index=False)"
   ]
  }
 ],
 "metadata": {
  "kernelspec": {
   "display_name": "Python 3",
   "language": "python",
   "name": "python3"
  },
  "language_info": {
   "codemirror_mode": {
    "name": "ipython",
    "version": 3
   },
   "file_extension": ".py",
   "mimetype": "text/x-python",
   "name": "python",
   "nbconvert_exporter": "python",
   "pygments_lexer": "ipython3",
   "version": "3.10.12"
  }
 },
 "nbformat": 4,
 "nbformat_minor": 2
}
